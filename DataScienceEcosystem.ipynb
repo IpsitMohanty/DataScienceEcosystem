{
 "cells": [
  {
   "cell_type": "markdown",
   "id": "6892eb82-19ce-4e6c-9a19-b6aaff8ab33f",
   "metadata": {},
   "source": [
    "# Data Science Tools and Ecosystem\n"
   ]
  },
  {
   "cell_type": "markdown",
   "id": "2310908d-258a-4052-8ccc-e8bc2a1e32df",
   "metadata": {},
   "source": [
    "In this notebook, Data Science Tools and Ecosystem are summarized.\n"
   ]
  },
  {
   "cell_type": "markdown",
   "id": "a55ec08c-0319-435b-a07c-f944b67106ed",
   "metadata": {},
   "source": [
    "Some of the popular languages that Data Scientists use are:\n",
    "1. Python\n",
    "2. R\n",
    "3. SQL\n"
   ]
  },
  {
   "cell_type": "markdown",
   "id": "f97c4c7f-81c2-4e79-b7d3-8f68349cbe83",
   "metadata": {},
   "source": [
    "Some of the commonly used libraries used by Data Scientists include:\n",
    "1. NumPy\n",
    "2. Pandas\n",
    "3. Matplotlib\n"
   ]
  },
  {
   "cell_type": "markdown",
   "id": "68d2a7cb-7ea7-4df2-8058-398bcd551b7e",
   "metadata": {},
   "source": [
    "\n",
    "| Data Science Tools |\n",
    "|--------------------|\n",
    "| JupyterLab         |\n",
    "| RStudio            |\n",
    "| Spyder             |\n",
    "\n"
   ]
  },
  {
   "cell_type": "markdown",
   "id": "d757945e-bb5f-449c-83c5-ca2c3e8374cd",
   "metadata": {},
   "source": [
    "### Below are a few examples of evaluating arithmetic expressions in Python.\n"
   ]
  },
  {
   "cell_type": "code",
   "execution_count": 4,
   "id": "ceb4ab2e-4b96-4212-8d4e-a095968bab29",
   "metadata": {},
   "outputs": [
    {
     "data": {
      "text/plain": [
       "17"
      ]
     },
     "execution_count": 4,
     "metadata": {},
     "output_type": "execute_result"
    }
   ],
   "source": [
    "# This is a simple arithmetic expression to multiply then add integers\n",
    "result = (3 * 4) + 5\n",
    "result\n"
   ]
  },
  {
   "cell_type": "code",
   "execution_count": 5,
   "id": "873dc971-1b0e-4870-9de2-a9cf0254fa4b",
   "metadata": {},
   "outputs": [
    {
     "data": {
      "text/plain": [
       "3.3333333333333335"
      ]
     },
     "execution_count": 5,
     "metadata": {},
     "output_type": "execute_result"
    }
   ],
   "source": [
    "# This will convert 200 minutes to hours by dividing by 60\n",
    "hours = 200 / 60\n",
    "hours\n"
   ]
  },
  {
   "cell_type": "markdown",
   "id": "56f2ddb4-0233-4f0e-85fb-5baab32f5ac5",
   "metadata": {},
   "source": [
    "**Objectives:**\n",
    "\n",
    "- List popular languages for Data Science (Python, R, SQL)\n",
    "- Explore commonly used libraries for Data Science (NumPy, Pandas, Matplotlib)\n",
    "- Discuss popular Data Science tools (JupyterLab, RStudio, Spyder)\n",
    "- Evaluate arithmetic expressions in Python (Multiplying, adding, and unit conversions)\n"
   ]
  },
  {
   "cell_type": "markdown",
   "id": "71a8268b-bb1f-4aa3-b393-bbb639316eb7",
   "metadata": {},
   "source": [
    "## Author\n",
    "Ipsit Mohanty\n"
   ]
  },
  {
   "cell_type": "code",
   "execution_count": null,
   "id": "9241f070-7007-4eef-b34d-326bc57e6c3d",
   "metadata": {},
   "outputs": [],
   "source": []
  }
 ],
 "metadata": {
  "kernelspec": {
   "display_name": "Python 3 (ipykernel)",
   "language": "python",
   "name": "python3"
  },
  "language_info": {
   "codemirror_mode": {
    "name": "ipython",
    "version": 3
   },
   "file_extension": ".py",
   "mimetype": "text/x-python",
   "name": "python",
   "nbconvert_exporter": "python",
   "pygments_lexer": "ipython3",
   "version": "3.11.9"
  }
 },
 "nbformat": 4,
 "nbformat_minor": 5
}
